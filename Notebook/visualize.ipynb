{
 "cells": [
  {
   "cell_type": "markdown",
   "id": "8fee3ed3",
   "metadata": {},
   "source": [
    "# 📘 Mongolian University Entrance Examination Results Analysis & Dashboard\n",
    "\n",
    "## 🧾 Project Overview\n",
    "\n",
    "This project analyzes student performance data from the Mongolian University Entrance Examinations across multiple subjects and provinces. The goal is to consolidate subject-specific exam datasets and build a comprehensive dashboard to uncover key insights on student outcomes, regional trends, percentile thresholds, and subject participation.\n",
    "\n",
    "The analysis follows a standard data science workflow:\n",
    "\n",
    "---"
   ]
  },
  {
   "cell_type": "code",
   "execution_count": 2,
   "id": "d71354bc",
   "metadata": {},
   "outputs": [],
   "source": [
    "#Import neccesary libraries\n",
    "import pandas as pd\n",
    "import os"
   ]
  },
  {
   "cell_type": "markdown",
   "id": "b677ddb4",
   "metadata": {},
   "source": [
    "## Data Preprocessing"
   ]
  },
  {
   "cell_type": "code",
   "execution_count": 3,
   "id": "2fcc10a7",
   "metadata": {},
   "outputs": [
    {
     "data": {
      "text/plain": [
       "'combined_subjects_dataset.csv'"
      ]
     },
     "execution_count": 3,
     "metadata": {},
     "output_type": "execute_result"
    }
   ],
   "source": [
    "#Folder path\n",
    "folder_path = \"Dataset\"\n",
    "\n",
    "# Define mappings\n",
    "region_map = {\n",
    "    1: \"Arkhangai Province\", 2: \"Bayan-Ölgii Province\", 3: \"Bayankhongor Province\",\n",
    "    4: \"Bulgan Province\", 5: \"Govi-Altai Province\", 6: \"Govisümber Province\",\n",
    "    7: \"Darkhan-Uul Province\", 8: \"Dornogovi Province\", 9: \"Dornod Province\",\n",
    "    10: \"Dundgovi Province\", 11: \"Zavkhan Province\", 12: \"Orkhon Province\",\n",
    "    13: \"Övörkhangai Province\", 14: \"Ömnögovi Province\", 15: \"Sükhbaatar Province\",\n",
    "    16: \"Selenge Province\", 17: \"Töv Province\", 18: \"Uvs Province\", 19: \"Khovd Province\",\n",
    "    20: \"Khentii Province\", 21: \"Khövsgöl Province\", 22: \"Baganuur District\", 23: \"Ulaanbaatar City\"\n",
    "}\n",
    "\n",
    "iso_map = {\n",
    "    \"Arkhangai Province\": \"MN-073\", \"Bayan-Ölgii Province\": \"MN-071\", \"Bayankhongor Province\": \"MN-069\",\n",
    "    \"Bulgan Province\": \"MN-067\", \"Govi-Altai Province\": \"MN-065\", \"Govisümber Province\": \"MN-064\",\n",
    "    \"Darkhan-Uul Province\": \"MN-037\", \"Dornogovi Province\": \"MN-063\", \"Dornod Province\": \"MN-061\",\n",
    "    \"Dundgovi Province\": \"MN-059\", \"Zavkhan Province\": \"MN-057\", \"Orkhon Province\": \"MN-035\",\n",
    "    \"Övörkhangai Province\": \"MN-055\", \"Ömnögovi Province\": \"MN-053\", \"Sükhbaatar Province\": \"MN-051\",\n",
    "    \"Selenge Province\": \"MN-049\", \"Töv Province\": \"MN-047\", \"Uvs Province\": \"MN-046\",\n",
    "    \"Khovd Province\": \"MN-043\", \"Khentii Province\": \"MN-039\", \"Khövsgöl Province\": \"MN-041\",\n",
    "    \"Baganuur District\": \"MN-020\", \"Ulaanbaatar City\": \"MN-1\"\n",
    "}\n",
    "\n",
    "# Initialize list to collect dataframes\n",
    "all_data = []\n",
    "\n",
    "# Folder containing datasets\n",
    "folder_path = \"Dataset\"\n",
    "\n",
    "# Loop through CSV files in the folder\n",
    "for filename in os.listdir(folder_path):\n",
    "    if filename.endswith(\".csv\"):\n",
    "        file_path = os.path.join(folder_path, filename)\n",
    "        subject = filename.replace(\".csv\", \"\").capitalize()\n",
    "        \n",
    "        # Load and process\n",
    "        df = pd.read_csv(file_path)\n",
    "        df[\"Subject\"] = subject\n",
    "        df[\"Region\"] = df[\"Areacode\"].map(region_map)\n",
    "        df[\"ISO_Code\"] = df[\"Region\"].map(iso_map)\n",
    "        \n",
    "        all_data.append(df)\n",
    "\n",
    "# Combine all into one dataset\n",
    "combined_df = pd.concat(all_data, ignore_index=True)\n",
    "\n",
    "# Drop unnecessary columns\n",
    "combined_df = combined_df.drop(\"Placement\", axis=1)\n",
    "\n",
    "# Save combined dataset\n",
    "output_path = \"combined_subjects_dataset.csv\"\n",
    "combined_df.to_csv(output_path, index=False)\n",
    "\n",
    "output_path\n"
   ]
  },
  {
   "cell_type": "code",
   "execution_count": 15,
   "id": "a78def6b",
   "metadata": {},
   "outputs": [],
   "source": [
    "import pandas as pd\n",
    "\n",
    "# Load your combined dataset\n",
    "df = pd.read_csv(\"Combined Dataset.csv\")  # Or use .xlsx if needed\n",
    "\n",
    "# Define the target percentiles\n",
    "percentiles = [0.9, 0.75, 0.6, 0.5, 0.4, 0.25]\n",
    "\n",
    "# Prepare an empty list to hold results\n",
    "results = []\n",
    "\n",
    "# Group by Subject and compute percentiles\n",
    "for subject, group in df.groupby(\"Subject\"):\n",
    "    for p in percentiles:\n",
    "        results.append({\n",
    "            \"Subject\": subject,\n",
    "            \"Percentile\": f\"{int(p * 100)}%\",\n",
    "            \"Firstscore\": round(group[\"Firstscore\"].quantile(p), 2),\n",
    "            \"Convertedscore\": round(group[\"Convertedscore\"].quantile(p), 2)\n",
    "        })\n",
    "\n",
    "# Create a DataFrame\n",
    "percentile_df = pd.DataFrame(results)\n",
    "\n",
    "# Save the result to CSV or Excel\n",
    "percentile_df.to_csv(\"Subject_Percentile_Scores.csv\", index=False)\n",
    "# Or: percentile_df.to_excel(\"Subject_Percentile_Scores.xlsx\", index=False)\n"
   ]
  }
 ],
 "metadata": {
  "kernelspec": {
   "display_name": "base",
   "language": "python",
   "name": "python3"
  },
  "language_info": {
   "codemirror_mode": {
    "name": "ipython",
    "version": 3
   },
   "file_extension": ".py",
   "mimetype": "text/x-python",
   "name": "python",
   "nbconvert_exporter": "python",
   "pygments_lexer": "ipython3",
   "version": "3.13.2"
  }
 },
 "nbformat": 4,
 "nbformat_minor": 5
}
